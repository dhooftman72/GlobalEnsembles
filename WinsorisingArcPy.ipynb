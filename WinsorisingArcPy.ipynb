{
 "cells": [
  {
   "cell_type": "code",
   "execution_count": null,
   "metadata": {},
   "outputs": [],
   "source": [
    "# Winsorisation code for layers. The cut-off values need to be copied from Matlab (WinsorFunctionMatlab.m)\n",
    "import arcpy\n",
    "Infile = A layer\n",
    "OutfileNorm = An output name\n",
    "ValueMin = # value from Matlab copied\n",
    "ValueMax = # value from Matlab copied\n",
    "   with arcpy.EnvManager(overwriteOutput=True):\n",
    "        out_raster = arcpy.sa.Minus(Infile, ValueMin); out_raster.save(\"TmpLayer1\")\n",
    "        out_raster = arcpy.sa.Con(\"TmpLayer1\", 0, \" TmpLayer1\", \"VALUE < 0\"); out_raster.save(\"TmpLayer2\")\n",
    "        out_raster = arcpy.sa.Divide(\"TmpLayer2\", ValueMax); out_raster.save(\"TmpLayer3\")\n",
    "        out_raster = arcpy.sa.Con(\"TmpLayer3\", 1, \" TmpLayer3\", \"VALUE > 1\"); out_raster.save(OutfileNorm)"
   ]
  }
 ],
 "metadata": {
  "kernelspec": {
   "display_name": "ArcGISPro",
   "language": "Python",
   "name": "python3"
  },
  "language_info": {
   "file_extension": ".py",
   "name": "python",
   "version": "3"
  }
 },
 "nbformat": 4,
 "nbformat_minor": 2
}
